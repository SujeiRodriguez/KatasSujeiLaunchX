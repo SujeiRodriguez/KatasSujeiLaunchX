{
  "cells": [
    {
      "cell_type": "markdown",
      "metadata": {},
      "source": [
        "# Ejercicio: Uso de funciones en Python"
      ]
    },
    {
      "cell_type": "markdown",
      "metadata": {},
      "source": [
        "### Ejercicio 1: Trabajar con argumentos en funciones\n",
        "\n",
        "Los argumentos requeridos en las funciones se utilizan cuando las funciones necesitan que esos argumentos funcionen correctamente. En este ejercicio, construirás un informe de combustible que requiere información de varias ubicaciones de combustible en todo el cohete.\n",
        "\n"
      ]
    },
    {
      "cell_type": "markdown",
      "metadata": {},
      "source": [
        "> **TIP**\n",
        "> Dedica unos minutos para tratar de encontrar una solución. Luego desplázate hacia abajo hasta la parte inferior para ver si has logrado compilar el programa de acuerdo con las especificaciones\n",
        "\n",
        "Comienza por crear una función que necesite tres lecturas de combustible y devuelva un informe:"
      ]
    },
    {
      "cell_type": "code",
      "execution_count": 20,
      "metadata": {},
      "outputs": [],
      "source": [
        "# Función para leer 3 tanques de combustible y muestre el promedio\n",
        "def carga_hidrogeno(tanque1, tanque2, tanque3):\n",
        "    return (tanque1 + tanque2 + tanque3) / 3"
      ]
    },
    {
      "cell_type": "markdown",
      "metadata": {},
      "source": [
        "Ahora que hemos definido la función de informes, vamos a comprobarlo. Para esta misión, los tanques no están llenos:"
      ]
    },
    {
      "cell_type": "code",
      "execution_count": 21,
      "metadata": {},
      "outputs": [
        {
          "name": "stdout",
          "output_type": "stream",
          "text": [
            "50.0\n"
          ]
        }
      ],
      "source": [
        "\n",
        "# Llamamos a la función que genera el reporte print(funcion(tanque1, tanque2, tanque3))\n",
        "print(carga_hidrogeno(tanque1=50, tanque2=25, tanque3=75))"
      ]
    },
    {
      "cell_type": "markdown",
      "metadata": {},
      "source": [
        "En lugar de simplemente crear el informe, la función también está calculando el promedio. Mejora la legibilidad extrayendo el cálculo promedio de la función en una nueva función para que el promedio se pueda hacer de forma independiente:"
      ]
    },
    {
      "cell_type": "code",
      "execution_count": 23,
      "metadata": {},
      "outputs": [
        {
          "name": "stdout",
          "output_type": "stream",
          "text": [
            "(50, 25, 75)\n"
          ]
        }
      ],
      "source": [
        "# Función promedio \n",
        "def carga_hidrogeno(tanque1, tanque2, tanque3):\n",
        "    return (tanque1, tanque2, tanque3)\n",
        "def promedio(tanque1, tanque2, tanque3):\n",
        "    return (tanque1 + tanque2 + tanque3) / 3\n",
        "print(carga_hidrogeno(tanque1=50, tanque2=25, tanque3=75))"
      ]
    },
    {
      "cell_type": "markdown",
      "metadata": {},
      "source": [
        "Ahora actualiza la función de informes para llamando a la nueva función del promedio:\n"
      ]
    },
    {
      "cell_type": "code",
      "execution_count": 24,
      "metadata": {},
      "outputs": [
        {
          "name": "stdout",
          "output_type": "stream",
          "text": [
            "50.0\n"
          ]
        }
      ],
      "source": [
        "# Actualiza la función\n",
        "print(promedio(tanque1=50, tanque2=25, tanque3=75))"
      ]
    },
    {
      "cell_type": "markdown",
      "metadata": {},
      "source": [
        "> Recuerda: Lo importante es intentarlo, puedes auxiliarte de internet, libros, etc. El objetivo de una kata es la comprobación de la comprensión de la lección y su aplicación inmediata a la resolución de problemas. Go for it!"
      ]
    },
    {
      "cell_type": "markdown",
      "metadata": {},
      "source": [
        "## Ejercicio 2: Trabajo con argumentos de palabra clave"
      ]
    },
    {
      "cell_type": "markdown",
      "metadata": {},
      "source": [
        "### Ejercicio : Trabajar con argumentos de palabras clave en funciones\n",
        "En este ejercicio, construirás un informe de cohete que requiere varias piezas de información, como el tiempo hasta el destino, el combustible a la izquierda y el nombre del destino. Comienza por crear una función que creará un informe preciso de la misión:"
      ]
    },
    {
      "cell_type": "code",
      "execution_count": 43,
      "metadata": {},
      "outputs": [],
      "source": [
        "# Función con un informe preciso de la misión. Considera hora de prelanzamiento, tiempo de vuelo, destino, tanque externo y tanque interno\n",
        "def informe_mision(prelanzamiento, tiempo_vuelo, destino, tanque_externo, tanque_interno):\n",
        "    return f\"\"\"Reporte de la mision:\n",
        "    Prelanzamiento: {prelanzamiento} min\n",
        "    Tiempo de vuelo: {tiempo_vuelo} min\n",
        "    Destino: {destino}\n",
        "    Tanque externo: {tanque_externo}%\n",
        "    Tanque interno: {tanque_interno}%  \n",
        "    \"\"\"\n",
        "    print(informe_mision(10, 90, 'moon', 98, 97))"
      ]
    },
    {
      "cell_type": "markdown",
      "metadata": {},
      "source": [
        "La función es problemática porque no se puede adaptar para minutos adicionales o tanques adicionales de combustible. Hazlo más flexible permitiendo cualquier número de pasos basados en el tiempo y cualquier número de tanques. En lugar de usar `*args` y `**kwargs`, aprovecha el hecho de que puedes usar cualquier nombre que desees. Asegurate que la función sea más legible mediante el uso de nombres de variables que están asociados con las entradas, como `*minutes` y `**fuel_reservoirs`:"
      ]
    },
    {
      "cell_type": "code",
      "execution_count": 44,
      "metadata": {},
      "outputs": [
        {
          "ename": "TypeError",
          "evalue": "sum() takes at most 2 arguments (4 given)",
          "output_type": "error",
          "traceback": [
            "\u001b[1;31m---------------------------------------------------------------------------\u001b[0m",
            "\u001b[1;31mTypeError\u001b[0m                                 Traceback (most recent call last)",
            "\u001b[1;32mc:\\Users\\suha\\Desktop\\LaunchX\\Módulo 9 - Funciones\\Módulo9Katas.ipynb Cell 16'\u001b[0m in \u001b[0;36m<module>\u001b[1;34m\u001b[0m\n\u001b[0;32m      <a href='vscode-notebook-cell:/c%3A/Users/suha/Desktop/LaunchX/M%C3%B3dulo%209%20-%20Funciones/M%C3%B3dulo9Katas.ipynb#ch0000015?line=1'>2</a>\u001b[0m \u001b[39mdef\u001b[39;00m \u001b[39minforme_mision\u001b[39m(destino, \u001b[39m*\u001b[39mminutos, \u001b[39m*\u001b[39m\u001b[39m*\u001b[39mfuel_reservoirs):\n\u001b[0;32m      <a href='vscode-notebook-cell:/c%3A/Users/suha/Desktop/LaunchX/M%C3%B3dulo%209%20-%20Funciones/M%C3%B3dulo9Katas.ipynb#ch0000015?line=2'>3</a>\u001b[0m     \u001b[39mreturn\u001b[39;00m \u001b[39mf\u001b[39m\u001b[39m\"\"\"\u001b[39m\u001b[39mReporte de la mision:\u001b[39m\n\u001b[0;32m      <a href='vscode-notebook-cell:/c%3A/Users/suha/Desktop/LaunchX/M%C3%B3dulo%209%20-%20Funciones/M%C3%B3dulo9Katas.ipynb#ch0000015?line=3'>4</a>\u001b[0m \u001b[39m    Tiempo: \u001b[39m\u001b[39m{\u001b[39;00m\u001b[39msum\u001b[39m(\u001b[39m*\u001b[39mminutos)\u001b[39m}\u001b[39;00m\u001b[39m minutos\u001b[39m\n\u001b[0;32m      <a href='vscode-notebook-cell:/c%3A/Users/suha/Desktop/LaunchX/M%C3%B3dulo%209%20-%20Funciones/M%C3%B3dulo9Katas.ipynb#ch0000015?line=4'>5</a>\u001b[0m \u001b[39m    Destino: \u001b[39m\u001b[39m{\u001b[39;00mdestino\u001b[39m}\u001b[39;00m\n\u001b[0;32m      <a href='vscode-notebook-cell:/c%3A/Users/suha/Desktop/LaunchX/M%C3%B3dulo%209%20-%20Funciones/M%C3%B3dulo9Katas.ipynb#ch0000015?line=5'>6</a>\u001b[0m \u001b[39m    Tanques de reserva: \u001b[39m\u001b[39m{\u001b[39;00m\u001b[39msum\u001b[39m(\u001b[39m*\u001b[39m\u001b[39m*\u001b[39mfuel_reservoirs\u001b[39m.\u001b[39mvalues())\u001b[39m}\u001b[39;00m\u001b[39m%  \u001b[39m\n\u001b[0;32m      <a href='vscode-notebook-cell:/c%3A/Users/suha/Desktop/LaunchX/M%C3%B3dulo%209%20-%20Funciones/M%C3%B3dulo9Katas.ipynb#ch0000015?line=6'>7</a>\u001b[0m \u001b[39m    \u001b[39m\u001b[39m\"\"\"\u001b[39m\n\u001b[1;32m----> <a href='vscode-notebook-cell:/c%3A/Users/suha/Desktop/LaunchX/M%C3%B3dulo%209%20-%20Funciones/M%C3%B3dulo9Katas.ipynb#ch0000015?line=7'>8</a>\u001b[0m \u001b[39mprint\u001b[39m(informe_mision(\u001b[39m'\u001b[39;49m\u001b[39mmoon\u001b[39;49m\u001b[39m'\u001b[39;49m, \u001b[39m10\u001b[39;49m, \u001b[39m90\u001b[39;49m, \u001b[39m98\u001b[39;49m, \u001b[39m97\u001b[39;49m))\n",
            "\u001b[1;32mc:\\Users\\suha\\Desktop\\LaunchX\\Módulo 9 - Funciones\\Módulo9Katas.ipynb Cell 16'\u001b[0m in \u001b[0;36minforme_mision\u001b[1;34m(destino, *minutos, **fuel_reservoirs)\u001b[0m\n\u001b[0;32m      <a href='vscode-notebook-cell:/c%3A/Users/suha/Desktop/LaunchX/M%C3%B3dulo%209%20-%20Funciones/M%C3%B3dulo9Katas.ipynb#ch0000015?line=1'>2</a>\u001b[0m \u001b[39mdef\u001b[39;00m \u001b[39minforme_mision\u001b[39m(destino, \u001b[39m*\u001b[39mminutos, \u001b[39m*\u001b[39m\u001b[39m*\u001b[39mfuel_reservoirs):\n\u001b[0;32m      <a href='vscode-notebook-cell:/c%3A/Users/suha/Desktop/LaunchX/M%C3%B3dulo%209%20-%20Funciones/M%C3%B3dulo9Katas.ipynb#ch0000015?line=2'>3</a>\u001b[0m     \u001b[39mreturn\u001b[39;00m \u001b[39mf\u001b[39m\u001b[39m\"\"\"\u001b[39m\u001b[39mReporte de la mision:\u001b[39m\n\u001b[1;32m----> <a href='vscode-notebook-cell:/c%3A/Users/suha/Desktop/LaunchX/M%C3%B3dulo%209%20-%20Funciones/M%C3%B3dulo9Katas.ipynb#ch0000015?line=3'>4</a>\u001b[0m \u001b[39m    Tiempo: \u001b[39m\u001b[39m{\u001b[39;00m\u001b[39msum\u001b[39m(\u001b[39m*\u001b[39mminutos)\u001b[39m}\u001b[39;00m\u001b[39m minutos\u001b[39m\n\u001b[0;32m      <a href='vscode-notebook-cell:/c%3A/Users/suha/Desktop/LaunchX/M%C3%B3dulo%209%20-%20Funciones/M%C3%B3dulo9Katas.ipynb#ch0000015?line=4'>5</a>\u001b[0m \u001b[39m    Destino: \u001b[39m\u001b[39m{\u001b[39;00mdestino\u001b[39m}\u001b[39;00m\n\u001b[0;32m      <a href='vscode-notebook-cell:/c%3A/Users/suha/Desktop/LaunchX/M%C3%B3dulo%209%20-%20Funciones/M%C3%B3dulo9Katas.ipynb#ch0000015?line=5'>6</a>\u001b[0m \u001b[39m    Tanques de reserva: \u001b[39m\u001b[39m{\u001b[39;00m\u001b[39msum\u001b[39m(\u001b[39m*\u001b[39m\u001b[39m*\u001b[39mfuel_reservoirs\u001b[39m.\u001b[39mvalues())\u001b[39m}\u001b[39;00m\u001b[39m%  \u001b[39m\n\u001b[0;32m      <a href='vscode-notebook-cell:/c%3A/Users/suha/Desktop/LaunchX/M%C3%B3dulo%209%20-%20Funciones/M%C3%B3dulo9Katas.ipynb#ch0000015?line=6'>7</a>\u001b[0m \u001b[39m    \u001b[39m\u001b[39m\"\"\"\u001b[39m\n",
            "\u001b[1;31mTypeError\u001b[0m: sum() takes at most 2 arguments (4 given)"
          ]
        }
      ],
      "source": [
        "# Escribe tu nueva función de reporte considerando lo anterior\n",
        "def informe_mision(destino, *minutos, **fuel_reservoirs):\n",
        "    return f\"\"\"Reporte de la mision:\n",
        "    Tiempo: {sum(*minutos)} minutos\n",
        "    Destino: {destino}\n",
        "    Tanques de reserva: {sum(**fuel_reservoirs.values())}%  \n",
        "    \"\"\"\n",
        "print(informe_mision('moon', 10, 90, 98, 97))"
      ]
    },
    {
      "cell_type": "markdown",
      "metadata": {},
      "source": [
        "Debido a que el combustible que queda en los tanques es específico de cada tanque, actualiza la función para usar el nombre de cada tanque en el informe:"
      ]
    },
    {
      "cell_type": "code",
      "execution_count": 73,
      "metadata": {},
      "outputs": [
        {
          "name": "stdout",
          "output_type": "stream",
          "text": [
            "\n",
            "    Reporte de la mision:\n",
            "    Tiempo: 100 min\n",
            "    Destino: Luna\n",
            "    Combustible Total: 195 %  \n",
            "    Tanque interno: 98 %\n",
            "    Tanque externo: 97 %\n",
            "    \n"
          ]
        }
      ],
      "source": [
        "# Escribe tu nueva función\n",
        "def informe_mision(destino, *minutos, **fuel_reservoirs):\n",
        "    reporte_principal = f\"\"\"\n",
        "    Reporte de la mision:\n",
        "    Tiempo: {sum(minutos)} min\n",
        "    Destino: {destino}\n",
        "    Combustible Total: {sum(fuel_reservoirs.values())} %  \n",
        "    \"\"\"\n",
        "    for tanques, porcentaje in fuel_reservoirs.items():\n",
        "        reporte_principal += f\"Tanque {tanques}: {porcentaje} %\\n    \"\n",
        "    return reporte_principal\n",
        "\n",
        "print(informe_mision('Luna', 10, 90, interno=98, externo=97))"
      ]
    },
    {
      "cell_type": "markdown",
      "metadata": {},
      "source": [
        "## Soluciones"
      ]
    },
    {
      "cell_type": "markdown",
      "metadata": {},
      "source": [
        "## Ejercicio 1"
      ]
    },
    {
      "cell_type": "code",
      "execution_count": null,
      "metadata": {},
      "outputs": [],
      "source": [
        "# Función para leer 3 tanques de combustible y muestre el promedio\n",
        "\n",
        "def generate_report(main_tank, external_tank, hydrogen_tank):\n",
        "    total_average = (main_tank + external_tank + hydrogen_tank) / 3\n",
        "    return f\"\"\"Fuel Report:\n",
        "    Total Average: {total_average}%\n",
        "    Main tank: {main_tank}%\n",
        "    External tank: {external_tank}%\n",
        "    Hydrogen tank: {hydrogen_tank}% \n",
        "    \"\"\"\n"
      ]
    },
    {
      "cell_type": "code",
      "execution_count": null,
      "metadata": {},
      "outputs": [],
      "source": [
        "# Llamamos a la función que genera el reporte print(funcion(tanque1, tanque2, tanque3))\n",
        "print(generate_report(80, 70, 85))"
      ]
    },
    {
      "cell_type": "code",
      "execution_count": null,
      "metadata": {},
      "outputs": [],
      "source": [
        "# Función promedio \n",
        "def average(values):\n",
        "    total = sum(values)\n",
        "    number_of_items = len(values)\n",
        "    return total / number_of_items\n",
        "\n",
        "# Test the averaging function with a list of integers:\n",
        "average([80, 85, 81]) "
      ]
    },
    {
      "cell_type": "code",
      "execution_count": null,
      "metadata": {},
      "outputs": [],
      "source": [
        "# Actualiza la función\n",
        "def generate_report(main_tank, external_tank, hydrogen_tank):\n",
        "    return f\"\"\"Fuel Report:\n",
        "    Total Average: {average([main_tank, external_tank, hydrogen_tank])}%\n",
        "    Main tank: {main_tank}%\n",
        "    External tank: {external_tank}%\n",
        "    Hydrogen tank: {hydrogen_tank}% \n",
        "    \"\"\"\n",
        "\n",
        "# Call the updated function again with different values\n",
        "print(generate_report(88, 76, 70))"
      ]
    },
    {
      "cell_type": "markdown",
      "metadata": {},
      "source": [
        "### Ejercicio 2:"
      ]
    },
    {
      "cell_type": "code",
      "execution_count": null,
      "metadata": {},
      "outputs": [],
      "source": [
        "# Función con un informe preciso de la misión. Considera hora de prelanzamiento, tiempo de vuelo, destino, tanque externo y tanque interno\n",
        "\n",
        "def mission_report(pre_launch_time, flight_time, destination, external_tank, main_tank):\n",
        "    return f\"\"\"\n",
        "    Mission to {destination}\n",
        "    Total travel time: {pre_launch_time + flight_time} minutes\n",
        "    Total fuel left: {external_tank + main_tank} gallons\n",
        "    \"\"\"\n",
        "\n",
        "print(mission_report(14, 51, \"Moon\", 200000, 300000))"
      ]
    },
    {
      "cell_type": "code",
      "execution_count": null,
      "metadata": {},
      "outputs": [],
      "source": [
        "# Escribe tu nueva función de reporte considerando lo anterior\n",
        "\n",
        "def mission_report(destination, *minutes, **fuel_reservoirs):\n",
        "    return f\"\"\"\n",
        "    Mission to {destination}\n",
        "    Total travel time: {sum(minutes)} minutes\n",
        "    Total fuel left: {sum(fuel_reservoirs.values())}\n",
        "    \"\"\"\n",
        "\n",
        "print(mission_report(\"Moon\", 10, 15, 51, main=300000, external=200000))"
      ]
    },
    {
      "cell_type": "code",
      "execution_count": null,
      "metadata": {},
      "outputs": [],
      "source": [
        "# Escribe tu nueva función\n",
        "\n",
        "def mission_report(destination, *minutes, **fuel_reservoirs):\n",
        "    main_report = f\"\"\"\n",
        "    Mission to {destination}\n",
        "    Total travel time: {sum(minutes)} minutes\n",
        "    Total fuel left: {sum(fuel_reservoirs.values())}\n",
        "    \"\"\"\n",
        "    for tank_name, gallons in fuel_reservoirs.items():\n",
        "        main_report += f\"{tank_name} tank --> {gallons} gallons left\\n\"\n",
        "    return main_report\n",
        "\n",
        "print(mission_report(\"Moon\", 8, 11, 55, main=300000, external=200000))"
      ]
    },
    {
      "cell_type": "markdown",
      "metadata": {},
      "source": [
        "---\n",
        "\n",
        "Curso Propedútico de Python para Launch X - Innovacción Virtual.\n",
        "\n",
        "Material desarrollado con base en los contenidos de MSLearn y la metáfora de LaunchX, traducción e implementación por: Fernanda Ochoa - Learning Producer de LaunchX.\n",
        "\n",
        "Redes:\n",
        "* GitHub: [FernandaOchoa](https://github.com/FernandaOchoa)\n",
        "* Twitter: [@imonsh](https://twitter.com/imonsh)\n",
        "* Instagram: [fherz8a](https://www.instagram.com/fherz8a/)"
      ]
    }
  ],
  "metadata": {
    "interpreter": {
      "hash": "205095b8b86ea82a021a8fc2ffba2b3bc9f8d0be25999901963b225939f75778"
    },
    "kernelspec": {
      "display_name": "Python 3.8.10 64-bit ('tmp': conda)",
      "name": "python3"
    },
    "language_info": {
      "codemirror_mode": {
        "name": "ipython",
        "version": 3
      },
      "file_extension": ".py",
      "mimetype": "text/x-python",
      "name": "python",
      "nbconvert_exporter": "python",
      "pygments_lexer": "ipython3",
      "version": "3.10.2"
    },
    "nteract": {
      "version": "nteract-front-end@1.0.0"
    },
    "orig_nbformat": 4
  },
  "nbformat": 4,
  "nbformat_minor": 2
}
